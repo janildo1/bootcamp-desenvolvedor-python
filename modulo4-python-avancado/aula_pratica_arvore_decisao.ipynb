{
 "cells": [
  {
   "cell_type": "code",
   "execution_count": null,
   "metadata": {},
   "outputs": [],
   "source": []
  }
 ],
 "metadata": {
  "kernelspec": {
   "display_name": "Python 3.10.7 64-bit",
   "language": "python",
   "name": "python3"
  },
  "language_info": {
   "name": "python",
   "version": "3.10.7"
  },
  "orig_nbformat": 4,
  "vscode": {
   "interpreter": {
    "hash": "fa285279c982224ea92b3ca551cca7ab0b1f9a987dcbf25c3117032fdd7469be"
   }
  }
 },
 "nbformat": 4,
 "nbformat_minor": 2
}
