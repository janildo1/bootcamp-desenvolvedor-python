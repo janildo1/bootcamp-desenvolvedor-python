{
 "cells": [
  {
   "cell_type": "markdown",
   "metadata": {},
   "source": [
    "Bootcamp: Desenvolvedor(a) Python\n",
    "\n",
    "Desafio Prático -> Módulo 2: Python para a Análise de Dados\n",
    "\n",
    "Objetivos de Ensino: Realizar a análise de uma base de dados real em Python."
   ]
  },
  {
   "cell_type": "markdown",
   "metadata": {},
   "source": [
    "Enunciado\n",
    "O uso de bicicletas como meio de transporte ganhou muita força nos últimos\n",
    "anos, seja por questões ambientais, de saúde ou até mesmo de infraestrutura\n",
    "de trânsito. Para incentivar seu uso, cidades em todo o mundo têm\n",
    "implementado programas de compartilhamento de bicicleta. Nesses\n",
    "sistemas, elas são retiradas e devolvidas em quiosques automatizados que\n",
    "ficam espalhados por diversos pontos da cidade.\n",
    "As plataformas de compartilhamento de bicicletas costumam coletar diversos\n",
    "tipos de dados, como a duração da viagem, as localizações iniciais e finais dos\n",
    "percursos, entre outros. Esses dados, em conjunto com informações sobre o\n",
    "clima, o trânsito e o relevo, por exemplo, possibilitam uma análise mais\n",
    "robusta do compartilhamento de bicicletas.\n",
    "\n",
    "Segue um descritivo dos dados coletados:\n",
    "− rec_id: índice do registro de locação;\n",
    "− datetime: data;\n",
    "− season: estação do ano (1: inverno, 2: primavera, 3: verão, 4: outono).\n",
    "Relativo ao hemisfério norte;\n",
    "− year: ano (0: 2011, 1:2012);\n",
    "− month: mês (1 a 12);\n",
    "− hour: hora do dia (0 a 23);\n",
    "− is_holiday: booleano indicando feriado;\n",
    "− weekday: dia da semana (0: domingo, 1: segunda-feira, ..., 6: sábado);\n",
    "− is_workingday: booleano indicando dia útil;\n",
    "− weather_condition: (1: limpo, 2: nublado, 3: chuva leve, 4: chuva\n",
    "forte);\n",
    "− temp: Temperatura escalada entre 0 e 1. Valor original em graus\n",
    "Celsius: -8 a 39;\n",
    "− atemp: Sensação térmica escalada entre 0 e 1. Valor original em\n",
    "graus Celsius: -16 a 50;\n",
    "− humidity: Humidade relativa (0 a 1);\n",
    "− windspeed: Velocidade do vento escalada entre 0 e 1 (máximo\n",
    "original: 67);\n",
    "− casual: número de locações para usuários casuais;\n",
    "− registered: número de locações para usuários registrados;\n",
    "− total_count: contador total de aluguéis (casual+registered).\n",
    "\n",
    "Esta atividade tem como objetivo analisar os dados de compartilhamento de\n",
    "bicicletas em uma cidade, coletados pela Universidade do Porto."
   ]
  },
  {
   "cell_type": "markdown",
   "metadata": {},
   "source": [
    "Importar as bibliotecas do numpy e pandas conforme"
   ]
  },
  {
   "cell_type": "code",
   "execution_count": 4,
   "metadata": {},
   "outputs": [],
   "source": [
    "#importando as bibliotecas\n",
    "import numpy as np\n",
    "import pandas as pd"
   ]
  },
  {
   "cell_type": "markdown",
   "metadata": {},
   "source": [
    "Carregar o dataset https://pycourse.s3.amazonaws.com/bike-sharing.csv para análise utilizando o pandas. "
   ]
  },
  {
   "cell_type": "code",
   "execution_count": 5,
   "metadata": {},
   "outputs": [],
   "source": [
    "#Carregando o dataset\n",
    "df = pd.read_csv(\"https://pycourse.s3.amazonaws.com/bike-sharing.csv\")"
   ]
  },
  {
   "cell_type": "code",
   "execution_count": null,
   "metadata": {},
   "outputs": [],
   "source": [
    "#Script da Questão 6\n",
    "r_preview.read(\"/\", \"Printar anos 2012 \\n representado com valors 1(UM)\")\n",
    "print(result_read_file[result_read_file[\"year\"] == 1][\"registered\"].cont())\n",
    "\n",
    "r_preview.head(\"/\", \"Numeros de Locações Feitas 2011/2012\")\n",
    "print(\n",
    "    \"Número de Locações Feitas 2011:\",\n",
    "    result_read_file\n",
    ")"
   ]
  }
 ],
 "metadata": {
  "kernelspec": {
   "display_name": "Python 3.10.7 64-bit",
   "language": "python",
   "name": "python3"
  },
  "language_info": {
   "codemirror_mode": {
    "name": "ipython",
    "version": 3
   },
   "file_extension": ".py",
   "mimetype": "text/x-python",
   "name": "python",
   "nbconvert_exporter": "python",
   "pygments_lexer": "ipython3",
   "version": "3.10.7"
  },
  "orig_nbformat": 4,
  "vscode": {
   "interpreter": {
    "hash": "fa285279c982224ea92b3ca551cca7ab0b1f9a987dcbf25c3117032fdd7469be"
   }
  }
 },
 "nbformat": 4,
 "nbformat_minor": 2
}
